{
    "nbformat_minor": 1, 
    "cells": [
        {
            "source": "# Peer-graded Assignment: Part 1", 
            "cell_type": "markdown", 
            "metadata": {
                "collapsed": true
            }
        }, 
        {
            "source": "### Importing the libraries needed", 
            "cell_type": "markdown", 
            "metadata": {}
        }, 
        {
            "execution_count": 51, 
            "cell_type": "code", 
            "metadata": {}, 
            "outputs": [], 
            "source": "import pandas as pd # library for data analsysis\nimport requests as request # library to handle requests"
        }, 
        {
            "source": "### Adding BeautifulSoup library for grabbing the text from the website", 
            "cell_type": "markdown", 
            "metadata": {}
        }, 
        {
            "execution_count": 52, 
            "cell_type": "code", 
            "metadata": {}, 
            "outputs": [
                {
                    "output_type": "stream", 
                    "name": "stdout", 
                    "text": "Requirement not upgraded as not directly required: beautifulsoup4 in /opt/conda/envs/DSX-Python35/lib/python3.5/site-packages\nRequirement not upgraded as not directly required: lxml in /opt/conda/envs/DSX-Python35/lib/python3.5/site-packages\n"
                }
            ], 
            "source": "!pip install beautifulsoup4\n!pip install lxml\nfrom bs4 import BeautifulSoup"
        }, 
        {
            "source": "### Grabbing the text from the website and adding it into an array for later use", 
            "cell_type": "markdown", 
            "metadata": {}
        }, 
        {
            "execution_count": 53, 
            "cell_type": "code", 
            "metadata": {}, 
            "outputs": [], 
            "source": "wikipedia_link = \"https://en.wikipedia.org/wiki/List_of_postal_codes_of_Canada:_M\"\nsource = request.get(wikipedia_link).text\nsoup = BeautifulSoup(source, 'lxml')\ntable = soup.find('table')\n\nrows = []\nfor row in table.findAll('tr'):\n    for cell in row.findAll('td'):\n        pincode = cell.p.b.text\n        for index, details in enumerate(cell.findAll('a')):\n            if index == 0:\n                borough = details.string\n                neighborhood = ''\n            elif index == 1:\n                neighborhood = details.string\n            else:\n                neighborhood = neighborhood + ', ' + details.string\n            if (index == len(cell.findAll('a')) - 1):\n                if index == 0:\n                    neighborhood = borough\n                try: \n                    row = [pincode, borough, neighborhood]\n                    rows.append(row)\n                except:\n                    pass"
        }, 
        {
            "source": "### Initializing a dataframe 'neighborhood_df' and adding the data from the rows array", 
            "cell_type": "markdown", 
            "metadata": {}
        }, 
        {
            "execution_count": 54, 
            "cell_type": "code", 
            "metadata": {}, 
            "outputs": [
                {
                    "execution_count": 54, 
                    "metadata": {}, 
                    "data": {
                        "text/html": "<div>\n<style scoped>\n    .dataframe tbody tr th:only-of-type {\n        vertical-align: middle;\n    }\n\n    .dataframe tbody tr th {\n        vertical-align: top;\n    }\n\n    .dataframe thead th {\n        text-align: right;\n    }\n</style>\n<table border=\"1\" class=\"dataframe\">\n  <thead>\n    <tr style=\"text-align: right;\">\n      <th></th>\n      <th>PostalCode</th>\n      <th>Borough</th>\n      <th>Neighborhood</th>\n    </tr>\n  </thead>\n  <tbody>\n    <tr>\n      <th>0</th>\n      <td>M3A</td>\n      <td>North York</td>\n      <td>Parkwoods</td>\n    </tr>\n    <tr>\n      <th>1</th>\n      <td>M4A</td>\n      <td>North York</td>\n      <td>Victoria Village</td>\n    </tr>\n    <tr>\n      <th>2</th>\n      <td>M5A</td>\n      <td>Downtown Toronto</td>\n      <td>Regent Park, Harbourfront</td>\n    </tr>\n    <tr>\n      <th>3</th>\n      <td>M6A</td>\n      <td>North York</td>\n      <td>Lawrence Manor, Lawrence Heights</td>\n    </tr>\n    <tr>\n      <th>4</th>\n      <td>M7A</td>\n      <td>Queen's Park</td>\n      <td>Queen's Park</td>\n    </tr>\n  </tbody>\n</table>\n</div>", 
                        "text/plain": "  PostalCode           Borough                      Neighborhood\n0        M3A        North York                         Parkwoods\n1        M4A        North York                  Victoria Village\n2        M5A  Downtown Toronto         Regent Park, Harbourfront\n3        M6A        North York  Lawrence Manor, Lawrence Heights\n4        M7A      Queen's Park                      Queen's Park"
                    }, 
                    "output_type": "execute_result"
                }
            ], 
            "source": "column_names = ['PostalCode', 'Borough', 'Neighborhood'] \n\n# instantiate the dataframe\nneighborhood_df = pd.DataFrame(rows, columns=column_names)\nneighborhood_df.head()"
        }, 
        {
            "execution_count": 55, 
            "cell_type": "code", 
            "metadata": {}, 
            "outputs": [
                {
                    "execution_count": 55, 
                    "metadata": {}, 
                    "data": {
                        "text/plain": "(101, 3)"
                    }, 
                    "output_type": "execute_result"
                }
            ], 
            "source": "neighborhood_df.shape"
        }
    ], 
    "metadata": {
        "kernelspec": {
            "display_name": "Python 3.5", 
            "name": "python3", 
            "language": "python"
        }, 
        "language_info": {
            "mimetype": "text/x-python", 
            "nbconvert_exporter": "python", 
            "version": "3.5.5", 
            "name": "python", 
            "file_extension": ".py", 
            "pygments_lexer": "ipython3", 
            "codemirror_mode": {
                "version": 3, 
                "name": "ipython"
            }
        }
    }, 
    "nbformat": 4
}